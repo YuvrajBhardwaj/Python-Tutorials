{
 "cells": [
  {
   "cell_type": "markdown",
   "id": "1afa9483",
   "metadata": {},
   "source": [
    "## Dictionaries"
   ]
  },
  {
   "cell_type": "code",
   "execution_count": null,
   "id": "61bbe68f",
   "metadata": {},
   "outputs": [
    {
     "name": "stdout",
     "output_type": "stream",
     "text": [
      "<class 'dict'>\n"
     ]
    }
   ],
   "source": [
    "empty_dict = {}\n",
    "print(type(empty_dict))"
   ]
  },
  {
   "cell_type": "code",
   "execution_count": 3,
   "id": "661a4a27",
   "metadata": {},
   "outputs": [
    {
     "name": "stdout",
     "output_type": "stream",
     "text": [
      "<class 'dict'>\n",
      "{'name': 'John', 'age': 20, 'courses': ['Math', 'Science']}\n"
     ]
    }
   ],
   "source": [
    "student = {\"name\": \"John\", \"age\": 20, \"courses\": [\"Math\", \"Science\"]}\n",
    "print(type(student))\n",
    "print(student)"
   ]
  },
  {
   "cell_type": "code",
   "execution_count": null,
   "id": "a4d51b3c",
   "metadata": {},
   "outputs": [
    {
     "name": "stdout",
     "output_type": "stream",
     "text": [
      "{'name': ['Math', 'Science'], 'age': 20}\n"
     ]
    }
   ],
   "source": [
    "#error\n",
    "# single key is always used\n",
    "student = {\"name\": \"John\", \"age\": 20, \"name\": [\"Math\", \"Science\"]}\n",
    "print(student)"
   ]
  },
  {
   "cell_type": "code",
   "execution_count": 18,
   "id": "034848e2",
   "metadata": {},
   "outputs": [
    {
     "name": "stdout",
     "output_type": "stream",
     "text": [
      "John\n",
      "20\n",
      "['Math', 'Science']\n",
      "John\n",
      "20\n",
      "['Math', 'Science']\n",
      "Not Available\n",
      "{'name': 'John', 'age': 24, 'courses': ['Math', 'Science']}\n",
      "{'name': 'John', 'age': 24, 'courses': ['Math', 'Science'], 'grade': 'A'}\n",
      "{'name': 'John', 'courses': ['Math', 'Science'], 'grade': 'A'}\n",
      "{'name': 'John', 'grade': 'A'}\n"
     ]
    }
   ],
   "source": [
    "# accessing dictionary values\n",
    "student = {\"name\": \"John\", \"age\": 20, \"courses\": [\"Math\", \"Science\"]}\n",
    "print(student[\"name\"])\n",
    "print(student[\"age\"])\n",
    "print(student[\"courses\"])\n",
    "\n",
    "# accessing using get method\n",
    "print(student.get(\"name\"))\n",
    "print(student.get(\"age\"))\n",
    "print(student.get(\"courses\"))\n",
    "print(student.get(\"address\", \"Not Available\"))  # default value if key not found\n",
    "\n",
    "# modifying dictionary elements\n",
    "student[\"age\"] = 24\n",
    "print(student)\n",
    "\n",
    "# adding new key-value pairs\n",
    "student[\"grade\"] = \"A\"\n",
    "print(student)\n",
    "\n",
    "# deleting dictionary elements\n",
    "del student[\"age\"]\n",
    "print(student)\n",
    "student.pop(\"courses\")\n",
    "print(student)\n"
   ]
  },
  {
   "cell_type": "code",
   "execution_count": 21,
   "id": "047039b6",
   "metadata": {},
   "outputs": [
    {
     "name": "stdout",
     "output_type": "stream",
     "text": [
      "Anytown\n",
      "CA\n",
      "dict_keys(['name', 'age', 'courses', 'address'])\n",
      "dict_values(['John Doe', 25, ['Math', 'Science'], {'street': '123 Main St', 'city': 'Anytown', 'state': 'CA'}])\n",
      "dict_items([('name', 'John Doe'), ('age', 25), ('courses', ['Math', 'Science']), ('address', {'street': '123 Main St', 'city': 'Anytown', 'state': 'CA'})])\n"
     ]
    }
   ],
   "source": [
    "student = {\n",
    "    \"name\": \"John Doe\",\n",
    "    \"age\": 25,\n",
    "    \"courses\": [\"Math\", \"Science\"],\n",
    "    \"address\": {\n",
    "        \"street\": \"123 Main St\",\n",
    "        \"city\": \"Anytown\",\n",
    "        \"state\": \"CA\"\n",
    "    }\n",
    "}\n",
    "print(student[\"address\"][\"city\"])  # accessing nested dictionary value\n",
    "print(student.get(\"address\").get(\"state\"))  # using get method for nested dictionary\n",
    "\n",
    "# using keys and values methods\n",
    "print(student.keys())  # returns a view object of the dictionary's keys\n",
    "print(student.values())  # returns a view object of the dictionary's values\n",
    "\n",
    "# using items method\n",
    "print(student.items())  # returns a view object of the dictionary's key-value pairs"
   ]
  },
  {
   "cell_type": "code",
   "execution_count": 27,
   "id": "482c3581",
   "metadata": {},
   "outputs": [
    {
     "name": "stdout",
     "output_type": "stream",
     "text": [
      "{'name': 'Jane Doe', 'age': 25, 'courses': ['Math', 'Science'], 'address': {'street': '123 Main St', 'city': 'Anytown', 'state': 'CA'}}\n"
     ]
    }
   ],
   "source": [
    "# using shallow copy\n",
    "student\n",
    "student_copy = student.copy()\n",
    "print(student_copy)\n"
   ]
  },
  {
   "cell_type": "code",
   "execution_count": 28,
   "id": "b7f284a5",
   "metadata": {},
   "outputs": [
    {
     "name": "stdout",
     "output_type": "stream",
     "text": [
      "{'name': 'pink panther', 'age': 25, 'courses': ['Math', 'Science'], 'address': {'street': '123 Main St', 'city': 'Anytown', 'state': 'CA'}}\n",
      "{'name': 'Jane Doe', 'age': 25, 'courses': ['Math', 'Science'], 'address': {'street': '123 Main St', 'city': 'Anytown', 'state': 'CA'}}\n"
     ]
    }
   ],
   "source": [
    "student[\"name\"] = \"pink panther\"\n",
    "print(student)  # modified dictionary reflects the change\n",
    "print(student_copy)  # original dictionary remains unchanged"
   ]
  },
  {
   "cell_type": "code",
   "execution_count": 29,
   "id": "7a505a0c",
   "metadata": {},
   "outputs": [
    {
     "name": "stdout",
     "output_type": "stream",
     "text": [
      "name: pink panther\n",
      "age: 25\n",
      "courses: ['Math', 'Science']\n",
      "address: {'street': '123 Main St', 'city': 'Anytown', 'state': 'CA'}\n"
     ]
    }
   ],
   "source": [
    "# iterating through a dictionary\n",
    "for key, value in student.items():\n",
    "    print(f\"{key}: {value}\")"
   ]
  },
  {
   "cell_type": "code",
   "execution_count": 30,
   "id": "b9465c7a",
   "metadata": {},
   "outputs": [
    {
     "name": "stdout",
     "output_type": "stream",
     "text": [
      "name\n",
      "age\n",
      "courses\n",
      "address\n"
     ]
    }
   ],
   "source": [
    "# iterate through keys\n",
    "for key in student.keys():\n",
    "    print(key)"
   ]
  },
  {
   "cell_type": "code",
   "execution_count": 31,
   "id": "50920312",
   "metadata": {},
   "outputs": [
    {
     "name": "stdout",
     "output_type": "stream",
     "text": [
      "pink panther\n",
      "25\n",
      "['Math', 'Science']\n",
      "{'street': '123 Main St', 'city': 'Anytown', 'state': 'CA'}\n"
     ]
    }
   ],
   "source": [
    "# iterate through values\n",
    "for value in student.values():\n",
    "    print(value)"
   ]
  },
  {
   "cell_type": "code",
   "execution_count": 33,
   "id": "86a4d229",
   "metadata": {},
   "outputs": [
    {
     "name": "stdout",
     "output_type": "stream",
     "text": [
      "{'student1': {'name': 'Alice', 'age': 22}, 'student2': {'name': 'Bob', 'age': 23}, 'student3': {'name': 'Charlie', 'age': 24}}\n"
     ]
    }
   ],
   "source": [
    "# nested dictionary\n",
    "students = {\n",
    "    \"student1\": {\"name\": \"Alice\", \"age\": 22},\n",
    "    \"student2\": {\"name\": \"Bob\", \"age\": 23},\n",
    "    \"student3\": {\"name\": \"Charlie\", \"age\": 24}\n",
    "}\n",
    "print(students)\n"
   ]
  },
  {
   "cell_type": "code",
   "execution_count": 35,
   "id": "11068035",
   "metadata": {},
   "outputs": [
    {
     "name": "stdout",
     "output_type": "stream",
     "text": [
      "Alice\n",
      "23\n"
     ]
    }
   ],
   "source": [
    "# access nested dictionary values\n",
    "print(students[\"student1\"][\"name\"])  # accessing nested dictionary value\n",
    "print(students.get(\"student2\").get(\"age\"))  # using get method for nested dictionary"
   ]
  },
  {
   "cell_type": "code",
   "execution_count": 37,
   "id": "97f19a9b",
   "metadata": {},
   "outputs": [
    {
     "name": "stdout",
     "output_type": "stream",
     "text": [
      "student1: {'name': 'Alice', 'age': 22}\n",
      "  name: Alice\n",
      "  age: 22\n",
      "student2: {'name': 'Bob', 'age': 23}\n",
      "  name: Bob\n",
      "  age: 23\n",
      "student3: {'name': 'Charlie', 'age': 24}\n",
      "  name: Charlie\n",
      "  age: 24\n"
     ]
    }
   ],
   "source": [
    "# iterating over nested dictionary\n",
    "for student_id, student_info in students.items():\n",
    "    print(f\"{student_id}: {student_info}\")\n",
    "    for key, value in student_info.items():\n",
    "        print(f\"  {key}: {value}\")"
   ]
  },
  {
   "cell_type": "code",
   "execution_count": 39,
   "id": "ee67f544",
   "metadata": {},
   "outputs": [
    {
     "name": "stdout",
     "output_type": "stream",
     "text": [
      "{0: 0, 1: 1, 2: 4, 3: 9, 4: 16}\n"
     ]
    }
   ],
   "source": [
    "# dictionary comprehension\n",
    "squares = {x: x**2 for x in range(5)}\n",
    "print(squares)  # prints {0: 0, 1: 1, 2: 4, 3: 9, 4: 16}"
   ]
  },
  {
   "cell_type": "code",
   "execution_count": 40,
   "id": "29d5774c",
   "metadata": {},
   "outputs": [
    {
     "name": "stdout",
     "output_type": "stream",
     "text": [
      "{0: 0, 2: 4, 4: 16, 6: 36, 8: 64}\n"
     ]
    }
   ],
   "source": [
    "# conditional dictionary comprehension\n",
    "squares_even = {x: x**2 for x in range(10) if x % 2 == 0}\n",
    "print(squares_even)  # prints {0: 0, 2: 4, 4: 16, 6: 36, 8: 64}\n",
    "\n"
   ]
  },
  {
   "cell_type": "code",
   "execution_count": 41,
   "id": "206238ad",
   "metadata": {},
   "outputs": [
    {
     "name": "stdout",
     "output_type": "stream",
     "text": [
      "{'apple': 3, 'banana': 2, 'orange': 1}\n"
     ]
    }
   ],
   "source": [
    "# use a dictionary to count the frequency of elements in a list\n",
    "elements = [\"apple\", \"banana\", \"apple\", \"orange\", \"banana\", \"apple\"]\n",
    "frequency = {}\n",
    "for element in elements:\n",
    "    if element in frequency:\n",
    "        frequency[element] += 1\n",
    "    else:\n",
    "        frequency[element] = 1\n",
    "print(frequency)  # prints {'apple': 3, 'banana': 2, 'orange': 1}"
   ]
  },
  {
   "cell_type": "code",
   "execution_count": 42,
   "id": "556edf38",
   "metadata": {},
   "outputs": [
    {
     "name": "stdout",
     "output_type": "stream",
     "text": [
      "{1: 1, 2: 2, 3: 3, 4: 4, 5: 5, 6: 5, 7: 5, 8: 5}\n"
     ]
    }
   ],
   "source": [
    "elements = [1,2,2,3,3,3,4,4,4,4,5,5,5,5,5,6,6,6,6,6,7,7,7,7,7,8,8,8,8,8]\n",
    "frequency = {}\n",
    "for element in elements:\n",
    "    if element in frequency:\n",
    "        frequency[element] += 1\n",
    "    else:\n",
    "        frequency[element] = 1\n",
    "print(frequency)  # prints frequency of each element in the list"
   ]
  },
  {
   "cell_type": "code",
   "execution_count": 43,
   "id": "66a56169",
   "metadata": {},
   "outputs": [
    {
     "name": "stdout",
     "output_type": "stream",
     "text": [
      "{'a': 1, 'b': 2, 'c': 3, 'd': 4}\n"
     ]
    }
   ],
   "source": [
    "# merge two dictionaries into one\n",
    "dict1 = {\"a\": 1, \"b\": 2}\n",
    "dict2 = {\"c\": 3, \"d\": 4}\n",
    "merged_dict = {**dict1, **dict2}\n",
    "print(merged_dict)  # prints {'a': 1, 'b': 2, 'c': 3, 'd': 4}"
   ]
  },
  {
   "cell_type": "markdown",
   "id": "b7f8257c",
   "metadata": {},
   "source": [
    "## Tuples\n"
   ]
  },
  {
   "cell_type": "code",
   "execution_count": 45,
   "id": "e808cdb1",
   "metadata": {},
   "outputs": [
    {
     "name": "stdout",
     "output_type": "stream",
     "text": [
      "(1, 2, 3)\n",
      "<class 'tuple'>\n"
     ]
    }
   ],
   "source": [
    "# creating a tuple\n",
    "tuple1 = (1, 2, 3)\n",
    "print(tuple1)  # prints (1, 2, 3)\n",
    "print(type(tuple1))  # prints <class 'tuple'>"
   ]
  },
  {
   "cell_type": "code",
   "execution_count": 1,
   "id": "8ef4950e",
   "metadata": {},
   "outputs": [
    {
     "name": "stdout",
     "output_type": "stream",
     "text": [
      "<class 'list'>\n",
      "<class 'tuple'>\n"
     ]
    }
   ],
   "source": [
    "lst = list()\n",
    "print(type(lst))  # prints <class 'list'>\n",
    "tpl = tuple()\n",
    "print(type(tpl))  # prints <class 'tuple'>"
   ]
  },
  {
   "cell_type": "code",
   "execution_count": 2,
   "id": "b68f7e9e",
   "metadata": {},
   "outputs": [
    {
     "name": "stdout",
     "output_type": "stream",
     "text": [
      "(1, 2, 3, 4, 5)\n",
      "<class 'tuple'>\n"
     ]
    }
   ],
   "source": [
    "numbers = tuple([1, 2, 3, 4, 5])\n",
    "print(numbers)  # prints (1, 2, 3, 4, 5)\n",
    "print(type(numbers))  # prints <class 'tuple'>"
   ]
  },
  {
   "cell_type": "code",
   "execution_count": 3,
   "id": "4911c41f",
   "metadata": {},
   "outputs": [
    {
     "data": {
      "text/plain": [
       "[1, 2, 3, 4, 5]"
      ]
     },
     "execution_count": 3,
     "metadata": {},
     "output_type": "execute_result"
    }
   ],
   "source": [
    "list({1,2,3,4,5})  # converting a set to a list"
   ]
  },
  {
   "cell_type": "code",
   "execution_count": 4,
   "id": "ef6a6c74",
   "metadata": {},
   "outputs": [
    {
     "name": "stdout",
     "output_type": "stream",
     "text": [
      "(1, 'apple', 3.14, True)\n",
      "<class 'tuple'>\n"
     ]
    }
   ],
   "source": [
    "mixed_tuple = (1, \"apple\", 3.14, True)\n",
    "print(mixed_tuple)  # prints (1, 'apple', 3.14,\n",
    "print(type(mixed_tuple))  # prints <class 'tuple'>\n"
   ]
  },
  {
   "cell_type": "code",
   "execution_count": null,
   "id": "9e06cfcf",
   "metadata": {},
   "outputs": [
    {
     "name": "stdout",
     "output_type": "stream",
     "text": [
      "1\n",
      "2\n",
      "3\n",
      "4\n",
      "5\n",
      "5\n",
      "(2, 3)\n",
      "(1, 2, 3)\n",
      "(3, 4, 5)\n",
      "(5, 4, 3, 2, 1)\n"
     ]
    }
   ],
   "source": [
    "# Accessing tuple elements\n",
    "tuple_example = (1, 2, 3, 4, 5)\n",
    "print(tuple_example[0])  # prints 1\n",
    "print(tuple_example[1])  # prints 2\n",
    "print(tuple_example[2])  # prints 3\n",
    "print(tuple_example[3])  # prints 4\n",
    "print(tuple_example[4])  # prints 5\n",
    "print(tuple_example[-1])  # prints 5 (last element)\n",
    "# Accessing tuple elements using slicing\n",
    "print(tuple_example[1:3])  # prints (2, 3)\n",
    "print(tuple_example[:3])  # prints (1, 2, 3)\n",
    "print(tuple_example[2:])  # prints (3, 4, 5)\n",
    "print(tuple_example[::-1])  # prints reverse order (5, 4, 3, 2, 1)"
   ]
  },
  {
   "cell_type": "code",
   "execution_count": 11,
   "id": "7d9c0754",
   "metadata": {},
   "outputs": [
    {
     "name": "stdout",
     "output_type": "stream",
     "text": [
      "(1, 2, 3, 4, 5, 1, 'apple', 3.14, True)\n"
     ]
    }
   ],
   "source": [
    "concatenation_tuple = numbers + mixed_tuple # concatenating two tuples\n",
    "print(concatenation_tuple)  # prints (1, 2, 3, 4, 5, 1, 'apple', 3.14, True)"
   ]
  },
  {
   "cell_type": "code",
   "execution_count": 12,
   "id": "575d1e12",
   "metadata": {},
   "outputs": [
    {
     "data": {
      "text/plain": [
       "(1, 'apple', 3.14, True, 1, 'apple', 3.14, True, 1, 'apple', 3.14, True)"
      ]
     },
     "execution_count": 12,
     "metadata": {},
     "output_type": "execute_result"
    }
   ],
   "source": [
    "mixed_tuple * 3"
   ]
  },
  {
   "cell_type": "code",
   "execution_count": 14,
   "id": "5067d8a2",
   "metadata": {},
   "outputs": [
    {
     "name": "stdout",
     "output_type": "stream",
     "text": [
      "[1, 2, 3, 4, 5]\n",
      "[1, 'KeyError', 3, 4, 5]\n",
      "Error: 'tuple' object does not support item assignment\n"
     ]
    }
   ],
   "source": [
    "# Immutability of tuples\n",
    "\n",
    "# Tuples are immutable, meaning their elements cannot be changed after creation\n",
    "\n",
    "lst = [1, 2, 3, 4, 5]\n",
    "print(lst)  # prints [1, 2, 3, 4, 5]\n",
    "\n",
    "lst[1] = \"KeyError\"\n",
    "print(lst)  # prints [1, 'KeyError', 3, 4, 5]\n",
    "\n",
    "numbers = (1, 2, 3, 4, 5)\n",
    "try:\n",
    "    numbers[1] = \"KeyError\"\n",
    "except TypeError as e:\n",
    "    print(f\"Error: {e}\")\n",
    "# Tuples can be used as keys in dictionaries\n"
   ]
  },
  {
   "cell_type": "code",
   "execution_count": 19,
   "id": "5973f0ac",
   "metadata": {},
   "outputs": [
    {
     "name": "stdout",
     "output_type": "stream",
     "text": [
      "(1, 2, 3, 4, 5)\n",
      "1\n",
      "2\n"
     ]
    }
   ],
   "source": [
    "# Tuple Methods\n",
    "print(numbers)\n",
    "print(numbers.count(1))\n",
    "print(numbers.index(3))"
   ]
  },
  {
   "cell_type": "code",
   "execution_count": 21,
   "id": "eb155912",
   "metadata": {},
   "outputs": [
    {
     "name": "stdout",
     "output_type": "stream",
     "text": [
      "(1, 2, 3)\n",
      "1\n",
      "2\n",
      "3\n",
      "1\n",
      "[2, 3, 4, 5]\n",
      "6\n"
     ]
    }
   ],
   "source": [
    "# packing a tuple\n",
    "packed_tuple = 1, 2, 3\n",
    "print(packed_tuple)  # prints (1, 2, 3)\n",
    "\n",
    "# unpacking a tuple\n",
    "a, b, c = packed_tuple\n",
    "print(a)  # prints 1\n",
    "print(b)  # prints 2\n",
    "print(c)  # prints 3\n",
    "\n",
    "#unpacking with asterisk\n",
    "numbers = (1, 2, 3, 4, 5, 6)\n",
    "a, *b, c = numbers\n",
    "print(a)  # prints 1\n",
    "print(b)  # prints [2, 3, 4, 5]\n",
    "print(c)  # prints 6\n"
   ]
  },
  {
   "cell_type": "markdown",
   "id": "f1e8269a",
   "metadata": {},
   "source": [
    "## Function Syntax\n"
   ]
  },
  {
   "cell_type": "code",
   "execution_count": 22,
   "id": "c4181eac",
   "metadata": {},
   "outputs": [],
   "source": [
    "def function_name(parameters):\n",
    "    \"\"\" Docstring for the function \"\"\"\n",
    "    # function body\n",
    "    return expression"
   ]
  },
  {
   "cell_type": "code",
   "execution_count": 24,
   "id": "93ea31c6",
   "metadata": {},
   "outputs": [
    {
     "name": "stdout",
     "output_type": "stream",
     "text": [
      "Odd\n"
     ]
    }
   ],
   "source": [
    "#why fn\n",
    "num = 11\n",
    "if num %2 == 0:\n",
    "    print(\"Even\")\n",
    "else:\n",
    "    print(\"Odd\")\n"
   ]
  },
  {
   "cell_type": "code",
   "execution_count": 26,
   "id": "cb14a900",
   "metadata": {},
   "outputs": [
    {
     "name": "stdout",
     "output_type": "stream",
     "text": [
      "Even\n",
      "Odd\n"
     ]
    }
   ],
   "source": [
    "def even_or_odd(num):\n",
    "    \"\"\" Check if a number is even or odd \"\"\"\n",
    "    if num % 2 == 0:\n",
    "        return \"Even\"\n",
    "    else:\n",
    "        return \"Odd\"\n",
    "    \n",
    "print(even_or_odd(10))  # returns \"Even\"\n",
    "print(even_or_odd(11))  # returns \"Odd\""
   ]
  },
  {
   "cell_type": "code",
   "execution_count": 27,
   "id": "4a40387a",
   "metadata": {},
   "outputs": [
    {
     "data": {
      "text/plain": [
       "'Even'"
      ]
     },
     "execution_count": 27,
     "metadata": {},
     "output_type": "execute_result"
    }
   ],
   "source": [
    "even_or_odd(24)"
   ]
  },
  {
   "cell_type": "code",
   "execution_count": 35,
   "id": "a757cbf4",
   "metadata": {},
   "outputs": [
    {
     "name": "stdout",
     "output_type": "stream",
     "text": [
      "Hello, Alice! Welcome to the Python world.\n"
     ]
    }
   ],
   "source": [
    "# default parameters\n",
    "def greet(name=\"Guest\"):\n",
    "    \"\"\" Greet the user with a default name \"\"\"\n",
    "    return f\"Hello, {name}! Welcome to the Python world.\"\n",
    "\n",
    "print(greet(\"Alice\"))"
   ]
  },
  {
   "cell_type": "code",
   "execution_count": 36,
   "id": "89ff2452",
   "metadata": {},
   "outputs": [],
   "source": [
    "# variable length arguments\n",
    "# positional and keyword arguments\n",
    "def print_numbers(*args):\n",
    "    for number in args:\n",
    "        print(number)"
   ]
  },
  {
   "cell_type": "code",
   "execution_count": 39,
   "id": "d64176f5",
   "metadata": {},
   "outputs": [
    {
     "name": "stdout",
     "output_type": "stream",
     "text": [
      "1\n",
      "2\n",
      "3\n",
      "4\n",
      "5\n",
      "6\n",
      "7\n",
      "Yuvraj\n"
     ]
    }
   ],
   "source": [
    "print_numbers(1, 2, 3, 4, 5, 6, 7, \"Yuvraj\")  # prints each number on a new line"
   ]
  },
  {
   "cell_type": "code",
   "execution_count": 40,
   "id": "ef26a8a1",
   "metadata": {},
   "outputs": [],
   "source": [
    "# keywords arguments\n",
    "def print_info(name, age, **kwargs):\n",
    "    \"\"\" Print name, age and additional information \"\"\"\n",
    "    print(f\"Name: {name}, Age: {age}\")\n",
    "    for key, value in kwargs.items():\n",
    "        print(f\"{key}: {value}\")"
   ]
  },
  {
   "cell_type": "code",
   "execution_count": 41,
   "id": "e1122979",
   "metadata": {},
   "outputs": [
    {
     "name": "stdout",
     "output_type": "stream",
     "text": [
      "Name: Alice, Age: 30\n",
      "city: New York\n",
      "occupation: Engineer\n"
     ]
    }
   ],
   "source": [
    "print_info(\"Alice\", 30, city=\"New York\", occupation=\"Engineer\")  # prints name, age and additional info"
   ]
  },
  {
   "cell_type": "code",
   "execution_count": 42,
   "id": "f0f5a14b",
   "metadata": {},
   "outputs": [],
   "source": [
    "## keyword arguments\n",
    "def print_details(**kwargs):\n",
    "    \"\"\" Print details from keyword arguments \"\"\"\n",
    "    for key, value in kwargs.items():\n",
    "        print(f\"{key}: {value}\")"
   ]
  },
  {
   "cell_type": "code",
   "execution_count": 43,
   "id": "401a4631",
   "metadata": {},
   "outputs": [
    {
     "name": "stdout",
     "output_type": "stream",
     "text": [
      "name: Yuvraj\n",
      "age: 25\n",
      "city: Jamshedpur\n",
      "country: India\n",
      "occupation: Developer\n"
     ]
    }
   ],
   "source": [
    "print_details(name=\"Yuvraj\", age=25, city=\"Jamshedpur\",country=\"India\" , occupation=\"Developer\")  # prints each key-value pair"
   ]
  },
  {
   "cell_type": "code",
   "execution_count": null,
   "id": "f831aaa9",
   "metadata": {},
   "outputs": [],
   "source": [
    "def print_details(*args,**kwargs):\n",
    "    \"\"\" Print details from keyword arguments \"\"\"\n",
    "    for val in args:\n",
    "        print(f\"Positional Argument :{val}\")\n",
    "        \n",
    "    for key, value in kwargs.items():\n",
    "        print(f\"Keyword Argument :{key}: {value}\")"
   ]
  },
  {
   "cell_type": "code",
   "execution_count": 45,
   "id": "62a9714e",
   "metadata": {},
   "outputs": [
    {
     "name": "stdout",
     "output_type": "stream",
     "text": [
      "Positional Argument :1\n",
      "Positional Argument :2\n",
      "Positional Argument :3\n",
      "Positional Argument :4\n",
      "Positional Argument :5\n",
      "Positional Argument :6\n",
      "Positional Argument :7\n",
      "Positional Argument :Yuvraj\n",
      "Keyword Argument :name: Yuvraj\n",
      "Keyword Argument :age: 25\n",
      "Keyword Argument :city: Jamshedpur\n",
      "Keyword Argument :country: India\n",
      "Keyword Argument :occupation: Developer\n"
     ]
    }
   ],
   "source": [
    "print_details(1, 2, 3, 4, 5, 6, 7, \"Yuvraj\", name=\"Yuvraj\", age=25, city=\"Jamshedpur\",country=\"India\" , occupation=\"Developer\")"
   ]
  },
  {
   "cell_type": "code",
   "execution_count": 46,
   "id": "5f017407",
   "metadata": {},
   "outputs": [
    {
     "data": {
      "text/plain": [
       "6"
      ]
     },
     "execution_count": 46,
     "metadata": {},
     "output_type": "execute_result"
    }
   ],
   "source": [
    "# return statement\n",
    "\n",
    "def multiply(a, b):\n",
    "    \"\"\" Multiply two numbers and return the result \"\"\"\n",
    "    return a * b\n",
    "\n",
    "multiply(2,3) # returns a*b"
   ]
  },
  {
   "cell_type": "code",
   "execution_count": null,
   "id": "165ef166",
   "metadata": {},
   "outputs": [
    {
     "data": {
      "text/plain": [
       "(6, 2)"
      ]
     },
     "execution_count": 47,
     "metadata": {},
     "output_type": "execute_result"
    }
   ],
   "source": [
    "# return multiple parameters from the fn\n",
    "def multiply(a, b):\n",
    "    \"\"\" Multiply two numbers and return the result \"\"\"\n",
    "    return a * b, a\n",
    "\n",
    "multiply(2,3) # returns a*b"
   ]
  },
  {
   "cell_type": "markdown",
   "id": "f54f84bd",
   "metadata": {},
   "source": [
    "## Functions Examples"
   ]
  },
  {
   "cell_type": "code",
   "execution_count": 55,
   "id": "f1cea9a1",
   "metadata": {},
   "outputs": [],
   "source": [
    "def convert_temperature(temp,unit):\n",
    "    \"\"\" This function converts temperature from Celsius to Fahrenheit or vice versa \"\"\"\n",
    "    if unit == \"C\":\n",
    "        return (temp * 9/5) + 32\n",
    "    elif unit == \"F\":\n",
    "        return (temp - 32) * 5/9\n",
    "    else:\n",
    "        raise ValueError(\"Invalid unit. Use 'C' for Celsius or 'F' for Fahrenheit.\")\n",
    "        "
   ]
  },
  {
   "cell_type": "code",
   "execution_count": 56,
   "id": "abbeb291",
   "metadata": {},
   "outputs": [
    {
     "data": {
      "text/plain": [
       "77.0"
      ]
     },
     "execution_count": 56,
     "metadata": {},
     "output_type": "execute_result"
    }
   ],
   "source": [
    "convert_temperature(25,\"C\")"
   ]
  },
  {
   "cell_type": "code",
   "execution_count": null,
   "id": "b769b29b",
   "metadata": {},
   "outputs": [
    {
     "name": "stdout",
     "output_type": "stream",
     "text": [
      "Strong: Password meets all criteria.\n",
      "Weak: Password must contain at least one digit.\n"
     ]
    }
   ],
   "source": [
    "# password strength checker\n",
    "def check_password_strength(password):\n",
    "    \"\"\" Check the strength of a password \"\"\"\n",
    "    if len(password) < 8:\n",
    "        return \"Weak: Password must be at least 8 characters long.\"\n",
    "    \n",
    "    if not any(char.isdigit() for char in password):\n",
    "        return \"Weak: Password must contain at least one digit.\"\n",
    "    \n",
    "    if not any(char.islower() for char in password):\n",
    "        return \"Weak: Password must contain at least one lowercase letter.\"\n",
    "    \n",
    "    if not any(char.isupper() for char in password):\n",
    "        return \"Weak: Password must contain at least one uppercase letter.\"\n",
    "    \n",
    "    if not any(char in \"!@#$%^&*()-_=+[]{}|;:',.<>?/\" for char in password):\n",
    "        return \"Weak: Password must contain at least one special character.\"\n",
    "    \n",
    "    return \"Strong: Password meets all criteria.\"\n",
    "\n",
    "print(check_password_strength(\"Password123!\"))\n",
    "print(check_password_strength(\"weakpass\"))"
   ]
  },
  {
   "cell_type": "code",
   "execution_count": 58,
   "id": "1d85d2c9",
   "metadata": {},
   "outputs": [
    {
     "name": "stdout",
     "output_type": "stream",
     "text": [
      "Total cost of items in the cart: $6.20\n"
     ]
    }
   ],
   "source": [
    "# calc total cost of items in a shopping cart\n",
    "def calculate_total_cost(cart):\n",
    "    \"\"\" Calculate the total cost of items in a shopping cart\"\"\"\n",
    "    total_cost = 0\n",
    "    for item in cart:\n",
    "        total_cost += item['price'] * item['quantity']\n",
    "    return total_cost\n",
    "cart = [\n",
    "    {\"name\": \"apple\", \"price\": 0.5, \"quantity\": 4},\n",
    "    {\"name\": \"banana\", \"price\": 0.3, \"quantity\": 6},\n",
    "    {\"name\": \"orange\", \"price\": 0.8, \"quantity\": 3}\n",
    "]\n",
    "print(f\"Total cost of items in the cart: ${calculate_total_cost(cart):.2f}\")  # prints total cost of items in the cart"
   ]
  },
  {
   "cell_type": "code",
   "execution_count": 63,
   "id": "c329ca2d",
   "metadata": {},
   "outputs": [
    {
     "name": "stdout",
     "output_type": "stream",
     "text": [
      "True\n",
      "False\n"
     ]
    }
   ],
   "source": [
    "# check if a number is palindrome\n",
    "def is_palindrome(s):\n",
    "    \"\"\" Check if a string is a palindrome \"\"\"\n",
    "    s = s.lower().replace(\" \", \"\")\n",
    "    return s == s[::-1]\n",
    "\n",
    "\n",
    "print(is_palindrome(\"racecar\"))  # returns True\n",
    "print(is_palindrome(\"hello\"))  # returns False"
   ]
  },
  {
   "cell_type": "code",
   "execution_count": 60,
   "id": "30a7a65d",
   "metadata": {},
   "outputs": [
    {
     "name": "stdout",
     "output_type": "stream",
     "text": [
      "120\n"
     ]
    }
   ],
   "source": [
    "# calculate factorial of a number using recursion\n",
    "def factorial(n):\n",
    "    \"\"\" Calculate the factorial of a number using recursion \"\"\"\n",
    "    if n == 0 or n == 1:\n",
    "        return 1\n",
    "    else:\n",
    "        return n * factorial(n - 1)\n",
    "print(factorial(5))  # returns 120"
   ]
  },
  {
   "cell_type": "code",
   "execution_count": 64,
   "id": "1da1df28",
   "metadata": {},
   "outputs": [
    {
     "name": "stdout",
     "output_type": "stream",
     "text": [
      "{'hello': 1, 'my': 1, 'name': 1, 'is': 2, 'yuvraj': 3, 'an': 1, 'engineer': 1, 'lives': 1, 'to': 1, 'code': 1, 'and': 1, 'become': 1, 'successful': 1}\n"
     ]
    }
   ],
   "source": [
    "# function to read a file and count the frequency of each word\n",
    "def count_word_frequency(file_path):\n",
    "    \"\"\" Count the frequency of each word in a file \"\"\"\n",
    "    word_count = {}\n",
    "    with open(file_path, 'r') as file:\n",
    "        for line in file:\n",
    "            words = line.split()\n",
    "            for word in words:\n",
    "                word = word.lower().strip('.,!?;:\"\\'')\n",
    "                word_count[word] = word_count.get(word, 0) + 1\n",
    "    return word_count\n",
    "\n",
    "filepath = 'sample.txt'  \n",
    "word_frequency = count_word_frequency(filepath)\n",
    "print(word_frequency)\n"
   ]
  },
  {
   "cell_type": "code",
   "execution_count": 65,
   "id": "ead24d38",
   "metadata": {},
   "outputs": [
    {
     "name": "stdout",
     "output_type": "stream",
     "text": [
      "True\n",
      "False\n"
     ]
    }
   ],
   "source": [
    "# email validation function\n",
    "import re\n",
    "def is_valid_email(email):\n",
    "    \"\"\" Validate an email address using regex \"\"\"\n",
    "\n",
    "    pattern = r'^[a-zA-Z0-9._%+-]+@[a-zA-Z0-9.-]+\\.[a-zA-Z]{2,}$'\n",
    "    return re.match(pattern, email) is not None\n",
    "\n",
    "print(is_valid_email(\"test@example.com\"))\n",
    "print(is_valid_email(\"invalid-email\"))  # returns False"
   ]
  },
  {
   "cell_type": "markdown",
   "id": "cebfe571",
   "metadata": {},
   "source": [
    "## Lambda functions"
   ]
  },
  {
   "cell_type": "code",
   "execution_count": 66,
   "id": "24d778f5",
   "metadata": {},
   "outputs": [
    {
     "data": {
      "text/plain": [
       "<function __main__.<lambda>(arguments)>"
      ]
     },
     "execution_count": 66,
     "metadata": {},
     "output_type": "execute_result"
    }
   ],
   "source": [
    "# syntax for lambda functions\n",
    "lambda arguments: expression"
   ]
  },
  {
   "cell_type": "code",
   "execution_count": 67,
   "id": "91f0fff9",
   "metadata": {},
   "outputs": [],
   "source": [
    "def add(x, y):\n",
    "    \"\"\" Add two numbers using a lambda function \"\"\"\n",
    "    return x + y"
   ]
  },
  {
   "cell_type": "code",
   "execution_count": 68,
   "id": "ed7c27bb",
   "metadata": {},
   "outputs": [
    {
     "data": {
      "text/plain": [
       "5"
      ]
     },
     "execution_count": 68,
     "metadata": {},
     "output_type": "execute_result"
    }
   ],
   "source": [
    "add(2, 3)  # returns 5"
   ]
  },
  {
   "cell_type": "code",
   "execution_count": 69,
   "id": "b3925c4a",
   "metadata": {},
   "outputs": [
    {
     "data": {
      "text/plain": [
       "function"
      ]
     },
     "execution_count": 69,
     "metadata": {},
     "output_type": "execute_result"
    }
   ],
   "source": [
    "# to write the same but using lambda function\n",
    "addition = lambda x, y: x + y\n",
    "type(addition)"
   ]
  },
  {
   "cell_type": "code",
   "execution_count": 70,
   "id": "bc6ea079",
   "metadata": {},
   "outputs": [
    {
     "name": "stdout",
     "output_type": "stream",
     "text": [
      "11\n"
     ]
    }
   ],
   "source": [
    "print(addition(5,6))"
   ]
  },
  {
   "cell_type": "code",
   "execution_count": 71,
   "id": "303f5d55",
   "metadata": {},
   "outputs": [
    {
     "data": {
      "text/plain": [
       "False"
      ]
     },
     "execution_count": 71,
     "metadata": {},
     "output_type": "execute_result"
    }
   ],
   "source": [
    "# lambda: args : operation\n",
    "\n",
    "def even_or_odd(num):\n",
    "    \"\"\" Check if a number is even or odd using lambda function \"\"\"\n",
    "    if num % 2 == 0:\n",
    "        return True\n",
    "    else:\n",
    "        return False\n",
    "    \n",
    "even_or_odd(10)  # returns True\n",
    "even_or_odd(11)  # returns False"
   ]
  },
  {
   "cell_type": "code",
   "execution_count": 72,
   "id": "36a61eff",
   "metadata": {},
   "outputs": [
    {
     "name": "stdout",
     "output_type": "stream",
     "text": [
      "True\n",
      "False\n"
     ]
    }
   ],
   "source": [
    "even_or_odd = lambda num: num % 2 == 0\n",
    "\n",
    "print(even_or_odd(10))  # returns True\n",
    "print(even_or_odd(11))  # returns False"
   ]
  },
  {
   "cell_type": "code",
   "execution_count": 74,
   "id": "dc467e58",
   "metadata": {},
   "outputs": [
    {
     "name": "stdout",
     "output_type": "stream",
     "text": [
      "25\n"
     ]
    }
   ],
   "source": [
    "square = lambda num: num ** 2\n",
    "print(square(5))  # returns 25"
   ]
  },
  {
   "cell_type": "code",
   "execution_count": 75,
   "id": "dd14e8b0",
   "metadata": {},
   "outputs": [
    {
     "name": "stdout",
     "output_type": "stream",
     "text": [
      "True\n",
      "False\n"
     ]
    }
   ],
   "source": [
    "# lambda to check prime number\n",
    "is_prime = lambda num: num > 1 and all(num % i != 0 for i in range(2, int(num**0.5) + 1))\n",
    "\n",
    "print(is_prime(11))  # returns True\n",
    "print(is_prime(15))  # returns False"
   ]
  },
  {
   "cell_type": "code",
   "execution_count": 77,
   "id": "d9bc0bd0",
   "metadata": {},
   "outputs": [
    {
     "name": "stdout",
     "output_type": "stream",
     "text": [
      "[11, 13, 17, 19]\n",
      "[2, 3, 5, 7, 11, 13, 17, 19, 23, 29, 31, 37, 41, 43, 47, 53, 59, 61, 67, 71, 73, 79, 83, 89, 97]\n"
     ]
    }
   ],
   "source": [
    "# lambda to write prime numbers between 2 number\n",
    "prime_numbers = lambda start, end: [num for num in range(start, end + 1) if is_prime(num)]\n",
    "print(prime_numbers(10, 20))  # returns prime numbers between 10 and 20\n",
    "print(prime_numbers(1, 100))"
   ]
  },
  {
   "cell_type": "code",
   "execution_count": null,
   "id": "965067bd",
   "metadata": {},
   "outputs": [
    {
     "name": "stdout",
     "output_type": "stream",
     "text": [
      "4\n",
      "[1, 4, 9, 16, 25]\n"
     ]
    }
   ],
   "source": [
    "# map() - applies a function to all items in an iterable (like a list) and returns a map object (which is an iterator)\n",
    "# map(function, iterable)\n",
    "numbers = [1, 2, 3, 4, 5]\n",
    "\n",
    "def square(x):\n",
    "    return x ** 2\n",
    "\n",
    "print(square(2))\n",
    "\n",
    "squared_numbers = list(map(lambda x: x ** 2, numbers))\n",
    "print(squared_numbers) "
   ]
  },
  {
   "cell_type": "markdown",
   "id": "08d1bd8e",
   "metadata": {},
   "source": [
    "# Map Function"
   ]
  },
  {
   "cell_type": "code",
   "execution_count": 81,
   "id": "ef5699f5",
   "metadata": {},
   "outputs": [
    {
     "name": "stdout",
     "output_type": "stream",
     "text": [
      "8\n"
     ]
    }
   ],
   "source": [
    "def cube(x):\n",
    "    return x ** 3\n",
    "\n",
    "print(cube(2))"
   ]
  },
  {
   "cell_type": "code",
   "execution_count": 82,
   "id": "38bb16cd",
   "metadata": {},
   "outputs": [
    {
     "data": {
      "text/plain": [
       "[1, 8, 27, 64, 125, 216, 343, 512]"
      ]
     },
     "execution_count": 82,
     "metadata": {},
     "output_type": "execute_result"
    }
   ],
   "source": [
    "numbers = [1, 2, 3, 4, 5, 6, 7, 8]\n",
    "list(map(cube, numbers))  # returns a list of cubes of the numbers\n",
    "# list(map(lambda x: x ** 3, numbers))\n"
   ]
  },
  {
   "cell_type": "code",
   "execution_count": 83,
   "id": "95500330",
   "metadata": {},
   "outputs": [
    {
     "data": {
      "text/plain": [
       "[1, 4, 9, 16, 25, 36, 49, 64]"
      ]
     },
     "execution_count": 83,
     "metadata": {},
     "output_type": "execute_result"
    }
   ],
   "source": [
    "# lambda function with map\n",
    "numbers = [1, 2, 3, 4, 5, 6, 7, 8]\n",
    "list(map(lambda x: x*x, numbers))\n"
   ]
  },
  {
   "cell_type": "code",
   "execution_count": 85,
   "id": "cccf48ca",
   "metadata": {},
   "outputs": [
    {
     "name": "stdout",
     "output_type": "stream",
     "text": [
      "[5, 7, 9]\n"
     ]
    }
   ],
   "source": [
    "# Map Multiple iterables\n",
    "\n",
    "numbers1 = [1, 2, 3]\n",
    "numbers2 = [4, 5, 6]\n",
    "added_numbers = list(map(lambda x, y: x + y, numbers1, numbers2))\n",
    "print(added_numbers)"
   ]
  },
  {
   "cell_type": "code",
   "execution_count": 86,
   "id": "3c392cdc",
   "metadata": {},
   "outputs": [
    {
     "name": "stdout",
     "output_type": "stream",
     "text": [
      "[1, 2, 3, 4, 5]\n"
     ]
    }
   ],
   "source": [
    "# map() to convert a list of strings to integers\n",
    "string_numbers = [\"1\", \"2\", \"3\", \"4\", \"5\"]\n",
    "int_numbers = list(map(int, string_numbers))\n",
    "\n",
    "print(int_numbers)  # returns [1, 2, 3, 4, 5]"
   ]
  },
  {
   "cell_type": "code",
   "execution_count": 87,
   "id": "d956fcd0",
   "metadata": {},
   "outputs": [
    {
     "name": "stdout",
     "output_type": "stream",
     "text": [
      "['APPLE', 'BANANA', 'CHERRY']\n"
     ]
    }
   ],
   "source": [
    "words = [\"apple\", \"banana\", \"cherry\"]\n",
    "uppercase_words = list(map(str.upper, words))\n",
    "print(uppercase_words)  # returns ['APPLE', 'BANANA', 'CHERRY']"
   ]
  },
  {
   "cell_type": "code",
   "execution_count": 89,
   "id": "2d40ff40",
   "metadata": {},
   "outputs": [
    {
     "data": {
      "text/plain": [
       "[('Yuvraj', 25), ('Bob', 26), ('Charlie', 27)]"
      ]
     },
     "execution_count": 89,
     "metadata": {},
     "output_type": "execute_result"
    }
   ],
   "source": [
    "def get_name(person):\n",
    "    \"\"\" Get the name of a person \"\"\"\n",
    "    return person[\"name\"], person[\"age\"]\n",
    "people = [{\"name\": \"Yuvraj\", \"age\": 25}, {\"name\": \"Bob\",\"age\": 26}, {\"name\": \"Charlie\", \"age\": 27}]\n",
    "\n",
    "list(map(get_name, people))"
   ]
  },
  {
   "cell_type": "markdown",
   "id": "caf1ea03",
   "metadata": {},
   "source": [
    "# Filter Function in Python\n"
   ]
  },
  {
   "cell_type": "code",
   "execution_count": 100,
   "id": "44256625",
   "metadata": {},
   "outputs": [
    {
     "data": {
      "text/plain": [
       "[2, 4, 6, 8, 10, 12]"
      ]
     },
     "execution_count": 100,
     "metadata": {},
     "output_type": "execute_result"
    }
   ],
   "source": [
    "# filter(fn, iterable)\n",
    "even = lambda x: x % 2 == 0\n",
    "numbers= [1,2,3,4,5,6,7,8,9,10,11,12]\n",
    "list(filter(even, numbers))\n"
   ]
  },
  {
   "cell_type": "code",
   "execution_count": null,
   "id": "4ee9fb30",
   "metadata": {},
   "outputs": [
    {
     "name": "stdout",
     "output_type": "stream",
     "text": [
      "[6, 7, 8, 9, 10]\n"
     ]
    }
   ],
   "source": [
    "# filter() function greater than 5\n",
    "\n",
    "numbers = [1, 2, 3, 4, 5, 6, 7, 8, 9, 10]\n",
    "greater_than_five = list(filter(lambda x: x > 5, numbers))\n",
    "print(greater_than_five)  # returns [6, 7, 8, 9, 10]"
   ]
  },
  {
   "cell_type": "code",
   "execution_count": 102,
   "id": "a25963ba",
   "metadata": {},
   "outputs": [
    {
     "name": "stdout",
     "output_type": "stream",
     "text": [
      "[6, 8, 10]\n"
     ]
    }
   ],
   "source": [
    "# filter with lambda fn and multiple conditions\n",
    "numbers = [1, 2, 3, 4, 5, 6, 7, 8, 9, 10]\n",
    "even_and_greater_than_five = list(filter(lambda x: x % 2 == 0 and x > 5, numbers))\n",
    "print(even_and_greater_than_five)"
   ]
  },
  {
   "cell_type": "code",
   "execution_count": 103,
   "id": "0e1dc4a8",
   "metadata": {},
   "outputs": [
    {
     "name": "stdout",
     "output_type": "stream",
     "text": [
      "[{'name': 'Bob', 'age': 26}, {'name': 'Charlie', 'age': 27}]\n"
     ]
    }
   ],
   "source": [
    "# filter to check if the age is greater than 25 in dictionary\n",
    "people = [\n",
    "    {\"name\": \"Alice\", \"age\": 24},\n",
    "    {\"name\": \"Bob\", \"age\": 26},\n",
    "    {\"name\": \"Charlie\", \"age\": 27}\n",
    "]\n",
    "adults = list(filter(lambda person: person[\"age\"] > 25, people))\n",
    "print(adults)"
   ]
  },
  {
   "cell_type": "markdown",
   "id": "d05f54f7",
   "metadata": {},
   "source": [
    "# Challanges DSA"
   ]
  },
  {
   "cell_type": "markdown",
   "id": "cf410f95",
   "metadata": {},
   "source": [
    "\n",
    "# Function to return a square pattern of '*' of side n as a list of strings.\n",
    "\n",
    "Parameters:\n",
    "n (int): The size of the square.\n",
    "\n",
    "Returns:\n",
    "list: A list of strings where each string represents a row of the square.\n",
    "\n",
    "Input: 3\n",
    "Output: ['***', '***', '***']\n",
    " \n",
    "Input: 5\n",
    "Output: ['*****', '*****', '*****', '*****', '*****']"
   ]
  },
  {
   "cell_type": "code",
   "execution_count": 107,
   "id": "e9686f55",
   "metadata": {},
   "outputs": [
    {
     "data": {
      "text/plain": [
       "['*****', '*****', '*****', '*****', '*****']"
      ]
     },
     "execution_count": 107,
     "metadata": {},
     "output_type": "execute_result"
    }
   ],
   "source": [
    "def generate_square(n):\n",
    "    return [\"*\" * n for _ in range(n)]\n",
    "\n",
    "generate_square(5)"
   ]
  },
  {
   "cell_type": "markdown",
   "id": "5843345c",
   "metadata": {},
   "source": [
    "## Function to return a hollow square pattern of '*' of side n as a list of strings.\n",
    "    \n",
    "Parameters:\n",
    "n (int): The size of the square.\n",
    "\n",
    "Returns:\n",
    "list: A list of strings where each string represents a row of the hollow square. \n",
    "\n",
    "Input: 3\n",
    "Output: ['***', '* *', '***']\n",
    " \n",
    "Input: 5\n",
    "Output: ['*****', '*   *', '*   *', '*   *', '*****']"
   ]
  },
  {
   "cell_type": "code",
   "execution_count": 112,
   "id": "9391b2dd",
   "metadata": {},
   "outputs": [
    {
     "data": {
      "text/plain": [
       "['*', '**', '***', '****', '*****']"
      ]
     },
     "execution_count": 112,
     "metadata": {},
     "output_type": "execute_result"
    }
   ],
   "source": [
    "def generate_triangle(n):\n",
    "    return [\"*\" * (i+1) for i in range(n)]\n",
    "\n",
    "generate_triangle(5)"
   ]
  },
  {
   "cell_type": "markdown",
   "id": "68829035",
   "metadata": {},
   "source": [
    "## Function to return a rectangle pattern of '*' with length n and breadth m as a list of strings.\n",
    "\n",
    "Parameters:\n",
    "n (int): The number of rows in the rectangle.\n",
    "m (int): The number of columns in the rectangle.\n",
    "\n",
    "Returns:\n",
    "list: A list of strings where each string represents a row of the rectangle pattern.\n",
    "\n",
    "Input: n = 4, m = 5\n",
    "Output: ['*****', '*****', '*****', '*****']\n",
    " \n",
    "Input: n = 3, m = 2\n",
    "Output: ['**', '**', '**']"
   ]
  },
  {
   "cell_type": "code",
   "execution_count": 113,
   "id": "454f547f",
   "metadata": {},
   "outputs": [
    {
     "data": {
      "text/plain": [
       "['*******', '*     *', '*     *', '*     *', '*     *', '*     *', '*******']"
      ]
     },
     "execution_count": 113,
     "metadata": {},
     "output_type": "execute_result"
    }
   ],
   "source": [
    "def generate_hollow_square(n):\n",
    "    square = []\n",
    "    for i in range(n):\n",
    "        if i == 0 or i == n - 1:\n",
    "            square.append(\"*\" * n)\n",
    "        else:\n",
    "            square.append(\"*\" + \" \" * (n - 2) + \"*\")\n",
    "    return square\n",
    "\n",
    "generate_hollow_square(5)\n",
    "generate_hollow_square(7)\n"
   ]
  },
  {
   "cell_type": "markdown",
   "id": "0c3602f1",
   "metadata": {},
   "source": [
    "## Function to return a right-angled triangle of '*' of side n as a list of strings.\n",
    "    \n",
    "Parameters:\n",
    "n (int): The height and base of the triangle.\n",
    "\n",
    "Returns:\n",
    "list: A list of strings where each string represents a row of the triangle.\n",
    "\n",
    "Input: 3\n",
    "Output: ['*', '**', '***']\n",
    " \n",
    "Input: 5\n",
    "Output: ['*', '**', '***', '****', '*****']"
   ]
  },
  {
   "cell_type": "markdown",
   "id": "67e51294",
   "metadata": {},
   "source": []
  },
  {
   "cell_type": "code",
   "execution_count": 114,
   "id": "321272c6",
   "metadata": {},
   "outputs": [
    {
     "data": {
      "text/plain": [
       "['*', '**', '***', '****', '*****']"
      ]
     },
     "execution_count": 114,
     "metadata": {},
     "output_type": "execute_result"
    }
   ],
   "source": [
    "def generate_triangle(n):\n",
    "    \"\"\"\n",
    "    Function to return a right-angled triangle of '*' of side n as a list of strings.\n",
    "    \n",
    "    Parameters:\n",
    "    n (int): The height and base of the triangle.\n",
    "    \n",
    "    Returns:\n",
    "    list: A list of strings where each string represents a row of the triangle.\n",
    "    \"\"\"\n",
    "    # Your code here\n",
    "    return ['*' * (i + 1) for i in range(n)]\n",
    "generate_triangle(5)"
   ]
  },
  {
   "cell_type": "markdown",
   "id": "739d4278",
   "metadata": {},
   "source": [
    "## Function to return an inverted right-angled triangle of '*' of side n as a list of strings.\n",
    "\n",
    "Parameters:\n",
    "n (int): The height and base of the triangle.\n",
    "\n",
    "Returns:\n",
    "list: A list of strings where each string represents a row of the triangle.\n",
    "\n",
    "Input: 3\n",
    "Output: ['***', '**', '*']\n",
    " \n",
    "Input: 5\n",
    "Output: ['*****', '****', '***', '**', '*']"
   ]
  },
  {
   "cell_type": "code",
   "execution_count": 116,
   "id": "3790bbf1",
   "metadata": {},
   "outputs": [
    {
     "data": {
      "text/plain": [
       "['*****', '****', '***', '**', '*']"
      ]
     },
     "execution_count": 116,
     "metadata": {},
     "output_type": "execute_result"
    }
   ],
   "source": [
    "def generate_inverted_triangle(n):\n",
    "    \"\"\"\n",
    "    Function to return an inverted right-angled triangle of '*' of side n as a list of strings.\n",
    "    \n",
    "    Parameters:\n",
    "    n (int): The height and base of the triangle.\n",
    "    \n",
    "    Returns:\n",
    "    list: A list of strings where each string represents a row of the triangle.\n",
    "    \"\"\"\n",
    "    # Your code here\n",
    "    return ['*' * i for i in range(n,0,-1)]\n",
    "generate_inverted_triangle(5)\n"
   ]
  },
  {
   "cell_type": "markdown",
   "id": "35c6d075",
   "metadata": {},
   "source": [
    "# Function to return a pyramid pattern of '*' of side n as a list of strings.\n",
    "\n",
    "Parameters:\n",
    "n (int): The number of rows in the pyramid.\n",
    "\n",
    "Returns:\n",
    "list: A list of strings where each string represents a row of the pyramid.\n",
    "\n",
    "Input: 3\n",
    "Output: ['  *  ', ' *** ', '*****']\n",
    " \n",
    "Input: 5\n",
    "Output: ['    *    ', '   ***   ', '  *****  ', ' ******* ', '*********']\n"
   ]
  },
  {
   "cell_type": "code",
   "execution_count": 1,
   "id": "2ca38a26",
   "metadata": {},
   "outputs": [
    {
     "data": {
      "text/plain": [
       "['    *    ', '   ***   ', '  *****  ', ' ******* ', '*********']"
      ]
     },
     "execution_count": 1,
     "metadata": {},
     "output_type": "execute_result"
    }
   ],
   "source": [
    "def generate_pyramid(n):\n",
    "    \"\"\"\n",
    "    Function to return a pyramid pattern of '*' of side n as a list of strings.\n",
    "    \n",
    "    Parameters:\n",
    "    n (int): The number of rows in the pyramid.\n",
    "    \n",
    "    Returns:\n",
    "    list: A list of strings where each string represents a row of the pyramid.\n",
    "    \"\"\"\n",
    "    # Your code here\n",
    "    return [' ' * (n - i) + '*' * (2 * i - 1) + ' ' * (n - i) for i in range(1, n + 1)]\n",
    "\n",
    "generate_pyramid(5)"
   ]
  },
  {
   "cell_type": "markdown",
   "id": "3fa00dd8",
   "metadata": {},
   "source": [
    "# Function to return an inverted pyramid pattern of '*' of side n as a list of strings.\n",
    "\n",
    "Parameters:\n",
    "n (int): The number of rows in the inverted pyramid.\n",
    "\n",
    "Returns:\n",
    "list: A list of strings where each string represents a row of the inverted pyramid.\n",
    "\n",
    "Input: 3\n",
    "Output: ['*****', ' *** ', '  *  ']\n",
    " \n",
    "Input: 5\n",
    "Output: ['*********', ' ******* ', '  *****  ', '   ***   ', '    *    ']"
   ]
  },
  {
   "cell_type": "markdown",
   "id": "1ebb77b9",
   "metadata": {},
   "source": []
  },
  {
   "cell_type": "code",
   "execution_count": 4,
   "id": "22fb43bb",
   "metadata": {},
   "outputs": [
    {
     "data": {
      "text/plain": [
       "['*********', ' ******* ', '  *****  ', '   ***   ', '    *    ']"
      ]
     },
     "execution_count": 4,
     "metadata": {},
     "output_type": "execute_result"
    }
   ],
   "source": [
    "def generate_inverted_pyramid(n):\n",
    "    return [' ' * ( n - i) + '*' * (2 * i - 1) + ' ' * ( n - i) for i in range(n, 0, -1)]\n",
    "\n",
    "# generate_inverted_pyramid(3)\n",
    "generate_inverted_pyramid(5)"
   ]
  },
  {
   "cell_type": "markdown",
   "id": "dc576a19",
   "metadata": {},
   "source": [
    "# Function to return a right-angled triangle of repeated numbers of side n as a list of strings.\n",
    "\n",
    "Parameters:\n",
    "n (int): The height of the triangle.\n",
    "\n",
    "Returns:\n",
    "list: A list of strings where each string represents a row of the triangle.\n",
    "\n",
    "Input: 5\n",
    "Output: ['1', '22', '333', '4444', '55555']\n",
    " \n",
    "Input: 3\n",
    "Output: ['1', '22', '333']"
   ]
  },
  {
   "cell_type": "code",
   "execution_count": 6,
   "id": "f14041dd",
   "metadata": {},
   "outputs": [
    {
     "data": {
      "text/plain": [
       "['1', '22', '333', '4444', '55555']"
      ]
     },
     "execution_count": 6,
     "metadata": {},
     "output_type": "execute_result"
    }
   ],
   "source": [
    "def generate_number_triangle(n):\n",
    "    \"\"\"\n",
    "    Function to return a right-angled triangle of repeated numbers of side n as a list of strings.\n",
    "    \n",
    "    Parameters:\n",
    "    n (int): The height of the triangle.\n",
    "    \n",
    "    Returns:\n",
    "    list: A list of strings where each string represents a row of the triangle.\n",
    "    \"\"\"\n",
    "    # Your code here\n",
    "    return [str(i)* i for i in range(1,n+1)]\n",
    "\n",
    "generate_number_triangle(5)"
   ]
  },
  {
   "cell_type": "markdown",
   "id": "2d71f616",
   "metadata": {},
   "source": [
    "# Function to return the first n rows of Floyd's Triangle as a list of strings.\n",
    "\n",
    "Parameters:\n",
    "n (int): The number of rows in the triangle.\n",
    "\n",
    "Returns:\n",
    "list: A list of strings where each string represents a row of Floyd's Triangle.\n",
    "\n",
    "Input: 5\n",
    "Output: ['1', '2 3', '4 5 6', '7 8 9 10', '11 12 13 14 15']\n",
    " \n",
    "Input: 3\n",
    "Output: ['1', '2 3', '4 5 6']"
   ]
  },
  {
   "cell_type": "code",
   "execution_count": 7,
   "id": "d556d4e4",
   "metadata": {},
   "outputs": [
    {
     "data": {
      "text/plain": [
       "['1', '2 3', '4 5 6', '7 8 9 10', '11 12 13 14 15']"
      ]
     },
     "execution_count": 7,
     "metadata": {},
     "output_type": "execute_result"
    }
   ],
   "source": [
    "def generate_floyd_triangle(n):\n",
    "    \"\"\"\n",
    "    Function to return Floyd's triangle of side n as a list of strings.\n",
    "    \n",
    "    Parameters:\n",
    "    n (int): The height of the triangle.\n",
    "    \n",
    "    Returns:\n",
    "    list: A list of strings where each string represents a row of the triangle.\n",
    "    \"\"\"\n",
    "    # Your code here\n",
    "    num = 1\n",
    "    triangle = []\n",
    "    for i in range(1, n + 1):\n",
    "        row = ' '.join(str(num + j) for j in range(i))\n",
    "        triangle.append(row)\n",
    "        num += i\n",
    "    return triangle\n",
    "\n",
    "generate_floyd_triangle(5)"
   ]
  },
  {
   "cell_type": "markdown",
   "id": "7d894319",
   "metadata": {},
   "source": [
    "# Function to return a diamond pattern of '*' of side n as a list of strings.\n",
    "\n",
    "Parameters:\n",
    "n (int): The number of rows for the upper part of the diamond.\n",
    "\n",
    "Returns:\n",
    "list: A list of strings where each string represents a row of the diamond.\n",
    "Input: 3\n",
    "Output: ['  *  ', ' *** ', '*****', ' *** ', '  *  ']\n",
    " \n",
    "Input: 5\n",
    "Output: ['    *    ', '   ***   ', '  *****  ', ' ******* ', '*********', ' ******* ', '  *****  ', '   ***   ', '    *    ']"
   ]
  },
  {
   "cell_type": "code",
   "execution_count": 12,
   "id": "5582e670",
   "metadata": {},
   "outputs": [
    {
     "data": {
      "text/plain": [
       "['    *    ',\n",
       " '   ***   ',\n",
       " '  *****  ',\n",
       " ' ******* ',\n",
       " '*********',\n",
       " ' ******* ',\n",
       " '  *****  ',\n",
       " '   ***   ',\n",
       " '    *    ']"
      ]
     },
     "execution_count": 12,
     "metadata": {},
     "output_type": "execute_result"
    }
   ],
   "source": [
    "def generate_diamond(n):\n",
    "    \"\"\"\n",
    "    Function to return a diamond pattern of '*' of side n as a list of strings.\n",
    "    \n",
    "    Parameters:\n",
    "    n (int): The number of rows for the upper part of the diamond.\n",
    "    \n",
    "    Returns:\n",
    "    list: A list of strings where each string represents a row of the diamond.\n",
    "    \"\"\"\n",
    "    diamond = []\n",
    "    width = 2 * n - 1  # Total width of the diamond\n",
    "\n",
    "    # Upper part\n",
    "    for i in range(1, n + 1):\n",
    "        stars = '*' * (2 * i - 1)\n",
    "        diamond.append(stars.center(width))\n",
    "\n",
    "    # Lower part\n",
    "    for i in range(n - 1, 0, -1):\n",
    "        stars = '*' * (2 * i - 1)\n",
    "        diamond.append(stars.center(width))\n",
    "\n",
    "    return diamond\n",
    "\n",
    "\n",
    "generate_diamond(5)"
   ]
  },
  {
   "cell_type": "markdown",
   "id": "16d2434c",
   "metadata": {},
   "source": [
    "# Function to return a right-angled triangle of '*' of side n as a list of strings.\n",
    "\n",
    "Parameters:\n",
    "n (int): The height of the triangle.\n",
    "\n",
    "Returns:\n",
    "list: A list of strings where each string represents a row of the triangle.\n",
    "\n",
    "Input: 4\n",
    "Output: ['   *', '  **', ' ***', '****']\n",
    " \n",
    "Input: 3\n",
    "Output: ['  *', ' **', '***']"
   ]
  },
  {
   "cell_type": "code",
   "execution_count": 13,
   "id": "643e1e3a",
   "metadata": {},
   "outputs": [
    {
     "data": {
      "text/plain": [
       "['    *', '   **', '  ***', ' ****', '*****']"
      ]
     },
     "execution_count": 13,
     "metadata": {},
     "output_type": "execute_result"
    }
   ],
   "source": [
    "def generate_right_angled_triangle(n):\n",
    "    \"\"\"\n",
    "    Function to return a right-angled triangle of '*' of side n as a list of strings.\n",
    "    \n",
    "    Parameters:\n",
    "    n (int): The height of the triangle.\n",
    "    \n",
    "    Returns:\n",
    "    list: A list of strings where each string represents a row of the triangle.\n",
    "    \"\"\"\n",
    "    # Your code here\n",
    "    return [(' ' * (n - i)) + ('*' * i) for i in range(1, n + 1)]\n",
    "\n",
    "generate_right_angled_triangle(5)"
   ]
  },
  {
   "cell_type": "code",
   "execution_count": null,
   "id": "cea0aa8c",
   "metadata": {},
   "outputs": [],
   "source": [
    "# celsius to fahrenheit conversion\n",
    "def celsius_to_fahrenheit(celsius):\n",
    "    \"\"\"\n",
    "    Convert Celsius to Fahrenheit.\n",
    "    \n",
    "    Parameters:\n",
    "    celsius (float): Temperature in Celsius.\n",
    "    \n",
    "    Returns:\n",
    "    float: Temperature in Fahrenheit.\n",
    "    \"\"\"\n",
    "    return (celsius * 9/5) + 32"
   ]
  },
  {
   "cell_type": "code",
   "execution_count": null,
   "id": "7dcdb9a7",
   "metadata": {},
   "outputs": [],
   "source": [
    "def area_of_rectangle(length, breadth):\n",
    "    \"\"\"\n",
    "    Function to calculate the area of a rectangle.\n",
    "    \n",
    "    Parameters:\n",
    "    length (float): The length of the rectangle.\n",
    "    breadth (float): The breadth of the rectangle.\n",
    "    \n",
    "    Returns:\n",
    "    float: The area of the rectangle.\n",
    "    \"\"\"\n",
    "    # Your code here\n",
    "    return length * breadth"
   ]
  },
  {
   "cell_type": "code",
   "execution_count": 17,
   "id": "57fac09b",
   "metadata": {},
   "outputs": [
    {
     "data": {
      "text/plain": [
       "['***', '***', '***']"
      ]
     },
     "execution_count": 17,
     "metadata": {},
     "output_type": "execute_result"
    }
   ],
   "source": [
    "def generate_square(n):\n",
    "   \n",
    "    return [\"*\" * n for _ in range(n)]\n",
    "\n",
    "generate_square(3)"
   ]
  },
  {
   "cell_type": "code",
   "execution_count": 20,
   "id": "e652dc3a",
   "metadata": {},
   "outputs": [
    {
     "data": {
      "text/plain": [
       "['*', '**', '***', '****', '*****']"
      ]
     },
     "execution_count": 20,
     "metadata": {},
     "output_type": "execute_result"
    }
   ],
   "source": [
    "def generate_triangle(n):\n",
    "    return ['*' * (i) for i in range(1,n+1)]\n",
    "\n",
    "generate_triangle(5)"
   ]
  },
  {
   "cell_type": "code",
   "execution_count": 23,
   "id": "f4d18917",
   "metadata": {},
   "outputs": [
    {
     "data": {
      "text/plain": [
       "['      *      ',\n",
       " '     ***     ',\n",
       " '    *****    ',\n",
       " '   *******   ',\n",
       " '  *********  ',\n",
       " ' *********** ',\n",
       " '*************']"
      ]
     },
     "execution_count": 23,
     "metadata": {},
     "output_type": "execute_result"
    }
   ],
   "source": [
    "def pyramid_triangle(n):\n",
    "    return [\" \" * (n -i) + \"*\" * ( 2 * i - 1) + \" \" * (n - i) for i in range(1, n + 1)]\n",
    "\n",
    "pyramid_triangle(7)"
   ]
  },
  {
   "cell_type": "code",
   "execution_count": 25,
   "id": "096c81e7",
   "metadata": {},
   "outputs": [
    {
     "data": {
      "text/plain": [
       "['*************',\n",
       " ' *********** ',\n",
       " '  *********  ',\n",
       " '   *******   ',\n",
       " '    *****    ',\n",
       " '     ***     ',\n",
       " '      *      ']"
      ]
     },
     "execution_count": 25,
     "metadata": {},
     "output_type": "execute_result"
    }
   ],
   "source": [
    "def inverted_pyramid(n):\n",
    "    return [' ' * (n -i) + '*' * (2 * i - 1) + ' ' * ( n - i) for i in range(n, 0, -1)]\n",
    "\n",
    "inverted_pyramid(7)"
   ]
  },
  {
   "cell_type": "code",
   "execution_count": 26,
   "id": "544b75d1",
   "metadata": {},
   "outputs": [],
   "source": [
    "def number_triangle(n):\n",
    "    return [str(i) * i for i in range(1,n+1)]"
   ]
  },
  {
   "cell_type": "code",
   "execution_count": 27,
   "id": "a9e4adf9",
   "metadata": {},
   "outputs": [
    {
     "data": {
      "text/plain": [
       "['1', '22', '333', '4444', '55555']"
      ]
     },
     "execution_count": 27,
     "metadata": {},
     "output_type": "execute_result"
    }
   ],
   "source": [
    "number_triangle(5)"
   ]
  },
  {
   "cell_type": "code",
   "execution_count": 29,
   "id": "eb1c2189",
   "metadata": {},
   "outputs": [
    {
     "data": {
      "text/plain": [
       "['1',\n",
       " '22',\n",
       " '333',\n",
       " '4444',\n",
       " '55555',\n",
       " '666666',\n",
       " '7777777',\n",
       " '88888888',\n",
       " '999999999']"
      ]
     },
     "execution_count": 29,
     "metadata": {},
     "output_type": "execute_result"
    }
   ],
   "source": [
    "number_triangle(9)"
   ]
  },
  {
   "cell_type": "code",
   "execution_count": 31,
   "id": "56cee9c7",
   "metadata": {},
   "outputs": [
    {
     "data": {
      "text/plain": [
       "['1',\n",
       " '2 3',\n",
       " '4 5 6',\n",
       " '7 8 9 10',\n",
       " '11 12 13 14 15',\n",
       " '16 17 18 19 20 21',\n",
       " '22 23 24 25 26 27 28',\n",
       " '29 30 31 32 33 34 35 36',\n",
       " '37 38 39 40 41 42 43 44 45',\n",
       " '46 47 48 49 50 51 52 53 54 55',\n",
       " '56 57 58 59 60 61 62 63 64 65 66']"
      ]
     },
     "execution_count": 31,
     "metadata": {},
     "output_type": "execute_result"
    }
   ],
   "source": [
    "def floyd_triangle(n):\n",
    "    num = 1\n",
    "    triangle = []\n",
    "    for i in range(1, n + 1):\n",
    "        row = ' '.join(str(num + j) for j in range(i))\n",
    "        triangle.append(row)\n",
    "        num += i\n",
    "    return triangle\n",
    "\n",
    "floyd_triangle(11)"
   ]
  },
  {
   "cell_type": "code",
   "execution_count": null,
   "id": "21c0a152",
   "metadata": {},
   "outputs": [],
   "source": []
  }
 ],
 "metadata": {
  "kernelspec": {
   "display_name": "base",
   "language": "python",
   "name": "python3"
  },
  "language_info": {
   "codemirror_mode": {
    "name": "ipython",
    "version": 3
   },
   "file_extension": ".py",
   "mimetype": "text/x-python",
   "name": "python",
   "nbconvert_exporter": "python",
   "pygments_lexer": "ipython3",
   "version": "3.12.7"
  }
 },
 "nbformat": 4,
 "nbformat_minor": 5
}
